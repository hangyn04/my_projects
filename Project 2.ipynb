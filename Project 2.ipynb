{
 "cells": [
  {
   "cell_type": "code",
   "execution_count": null,
   "metadata": {},
   "outputs": [],
   "source": [
    "# Project 1"
   ]
  },
  {
   "cell_type": "code",
   "execution_count": null,
   "metadata": {},
   "outputs": [],
   "source": [
    "def get_data(filename):\n",
    "    new_list = []\n",
    "    read_data = open(filename,\"r\")\n",
    "    data = read_data.readlines()\n",
    "    for each in data[1:]:\n",
    "        remove = each.strip(\"\\n\")\n",
    "        new = remove.split(\",\")\n",
    "        for el in new:\n",
    "            if el not in new[2:4]:\n",
    "                convert = int(el)\n",
    "            else:\n",
    "                convert = str(el)\n",
    "            new_list+=[convert]\n",
    "    arr=[]\n",
    "    for i in range(0,len(new_list),9):\n",
    "        new_r = new_list[i:i+9]\n",
    "        if new_r != ['', '', '', '', '', '', '', '', '']:\n",
    "            arr+=[new_r]\n",
    "    return arr\n",
    "\n",
    "\n",
    "import MySQLdb\n",
    "\n",
    "db = MySQLdb.connect(\"cscdata.centre.edu\",\"ha\",\"DSC270F@ll2023\", \"ha_grades\")\n",
    "cursor = db.cursor()\n",
    "sql = (\"INSERT INTO students (number, student_id, last_name, first_name, quiz_1, quiz_2, quiz_3, quiz_4, quiz_5) VALUES (%s, %s, %s, %s, %s, %s, %s, %s, %s)\")\n",
    "try:\n",
    "    cursor.executemany(sql,get_data(\"grades.csv\"))\n",
    "    db.commit()\n",
    "except:\n",
    "    print(\"error running query\")\n",
    "    db.rollback()\n",
    "    \n",
    "db.close()"
   ]
  }
 ],
 "metadata": {
  "language_info": {
   "name": "python"
  },
  "orig_nbformat": 4
 },
 "nbformat": 4,
 "nbformat_minor": 2
}
